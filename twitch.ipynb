{
 "cells": [
  {
   "cell_type": "code",
   "execution_count": null,
   "metadata": {},
   "outputs": [],
   "source": [
    "from urllib.request import Request, urlopen\n",
    "import json\n",
    "import csv\n",
    "import time\n",
    "import logging\n",
    "from datetime import datetime\n",
    "import os"
   ]
  },
  {
   "cell_type": "code",
   "execution_count": null,
   "metadata": {},
   "outputs": [],
   "source": [
    "def getChatFormatted(infos):\n",
    "  chat = []\n",
    "  for comment in infos['comments']:\n",
    "    message = {'seg': comment['content_offset_seconds']}\n",
    "    message['body'] = comment['message']['body']\n",
    "    if ('user_badges' in comment['message']):\n",
    "      ids = ''\n",
    "      for badges in comment['message']['user_badges']:\n",
    "        if(ids == ''):\n",
    "          ids = badges['_id']\n",
    "        else:\n",
    "          ids += ','+badges['_id']\n",
    "      message['user_badges'] = ids\n",
    "\n",
    "    chat.append(message)\n",
    "  \n",
    "  return chat\n",
    "  \n",
    "  "
   ]
  },
  {
   "cell_type": "code",
   "execution_count": null,
   "metadata": {},
   "outputs": [],
   "source": [
    "def writeFile(fileName, chat):\n",
    "  keys = ['seg', 'body', 'user_badges']\n",
    "\n",
    "  if not(os.path.isfile('./'+fileName)):\n",
    "      with open(fileName, 'a', newline='', encoding=\"utf-8\") as output_file:\n",
    "        dict_writer = csv.DictWriter(output_file, keys)\n",
    "        dict_writer.writeheader()\n",
    "        dict_writer.writerows(chat)\n",
    "  else:\n",
    "    with open(fileName, 'a', newline='', encoding=\"utf-8\") as output_file:\n",
    "      dict_writer = csv.DictWriter(output_file, keys)\n",
    "      dict_writer.writerows(chat)"
   ]
  },
  {
   "cell_type": "code",
   "execution_count": null,
   "metadata": {},
   "outputs": [],
   "source": [
    "def getChatInfo(url):\n",
    "  try:\n",
    "    req = Request(url)\n",
    "    req.add_header('client-id', os.getenv('CLIENT_ID'))\n",
    "    content = urlopen(req).read().decode('UTF-8')\n",
    "    infos = json.loads(content)\n",
    "    return infos\n",
    "\n",
    "  except req.Timeout as err:\n",
    "    logging.error({\"message\": err.message})"
   ]
  },
  {
   "cell_type": "code",
   "execution_count": null,
   "metadata": {},
   "outputs": [],
   "source": [
    "def getChat(url):\n",
    "  infos = getChatInfo(url)\n",
    "  chat = getChatFormatted(infos)\n",
    "\n",
    "  writeFile(fileName, chat)\n",
    "\n",
    "  if('_next' in infos):\n",
    "    time.sleep(3)\n",
    "    nextChat(infos['_next'])\n",
    "\n",
    "\n",
    "def nextChat(nextUrl):\n",
    "  url = 'https://api.twitch.tv/v5/videos/'+videoId+'/comments?cursor='+nextUrl\n",
    "  getChat(url)\n",
    "    \n",
    "def getChatbySec(sec):\n",
    "  url = 'https://api.twitch.tv/v5/videos/'+videoId+'/comments?content_offset_seconds='+sec\n",
    "  getChat(url)\n",
    "\n",
    "videoId = '1314356920'\n",
    "now = datetime.now().strftime(\"%d-%m-%Y_%H-%M-%S\")\n",
    "fileName = 'chat_'+videoId+'_'+now+'.csv'\n",
    "\n",
    "getChatbySec('0')"
   ]
  }
 ],
 "metadata": {
  "interpreter": {
   "hash": "1cbadf7e30f156f4e0b68f4bca81fa70237e67691d6ebe573bb449e31d409fb8"
  },
  "kernelspec": {
   "display_name": "Python 3.10.4 64-bit",
   "language": "python",
   "name": "python3"
  },
  "language_info": {
   "codemirror_mode": {
    "name": "ipython",
    "version": 3
   },
   "file_extension": ".py",
   "mimetype": "text/x-python",
   "name": "python",
   "nbconvert_exporter": "python",
   "pygments_lexer": "ipython3",
   "version": "3.10.4"
  },
  "orig_nbformat": 4
 },
 "nbformat": 4,
 "nbformat_minor": 2
}
